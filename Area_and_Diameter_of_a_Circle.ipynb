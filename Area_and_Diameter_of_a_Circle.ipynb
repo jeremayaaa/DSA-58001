{
  "nbformat": 4,
  "nbformat_minor": 0,
  "metadata": {
    "colab": {
      "name": "Area and Diameter of a Circle.ipynb",
      "provenance": [],
      "collapsed_sections": [],
      "authorship_tag": "ABX9TyOkFbMmNvZQuldjW8SZIsks",
      "include_colab_link": true
    },
    "kernelspec": {
      "name": "python3",
      "display_name": "Python 3"
    },
    "language_info": {
      "name": "python"
    }
  },
  "cells": [
    {
      "cell_type": "markdown",
      "metadata": {
        "id": "view-in-github",
        "colab_type": "text"
      },
      "source": [
        "<a href=\"https://colab.research.google.com/github/jeremayaaa/DSA-58001/blob/main/Area_and_Diameter_of_a_Circle.ipynb\" target=\"_parent\"><img src=\"https://colab.research.google.com/assets/colab-badge.svg\" alt=\"Open In Colab\"/></a>"
      ]
    },
    {
      "cell_type": "code",
      "execution_count": 2,
      "metadata": {
        "colab": {
          "base_uri": "https://localhost:8080/"
        },
        "id": "g9AYrFvFEGAU",
        "outputId": "1f507473-7074-491c-e71b-1bfb9c047124"
      },
      "outputs": [
        {
          "output_type": "stream",
          "name": "stdout",
          "text": [
            "Enter the radius of a circle:3\n",
            "The area of a circle is: 28.2744\n"
          ]
        }
      ],
      "source": [
        "#if the given values are radius\n",
        "\n",
        "r = int(input(\"Enter the radius of a circle:\"))\n",
        "a = 3.1416*r*r\n",
        "\n",
        "print(\"The area of a circle is:\", a)"
      ]
    },
    {
      "cell_type": "code",
      "source": [
        "#if the given values are diameter\n",
        "\n",
        "d = int(input(\"Enter the diameter of a circle:\"))\n",
        "a = (3.1416*d*d)/4\n",
        "\n",
        "print(\"The diameter of a circle is:\", a)"
      ],
      "metadata": {
        "colab": {
          "base_uri": "https://localhost:8080/"
        },
        "id": "oitt1n6iLug_",
        "outputId": "fad72d1b-8914-46ab-886e-f494d7eafdff"
      },
      "execution_count": 4,
      "outputs": [
        {
          "output_type": "stream",
          "name": "stdout",
          "text": [
            "Enter the diameter of a circle:4\n",
            "The diameter of a circle is: 12.5664\n"
          ]
        }
      ]
    }
  ]
}