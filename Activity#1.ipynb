{
  "nbformat": 4,
  "nbformat_minor": 0,
  "metadata": {
    "colab": {
      "provenance": [],
      "authorship_tag": "ABX9TyOeX5+G5/g+P/LpFzD+I1pB",
      "include_colab_link": true
    },
    "kernelspec": {
      "name": "python3",
      "display_name": "Python 3"
    },
    "language_info": {
      "name": "python"
    }
  },
  "cells": [
    {
      "cell_type": "markdown",
      "metadata": {
        "id": "view-in-github",
        "colab_type": "text"
      },
      "source": [
        "<a href=\"https://colab.research.google.com/github/jeremayaaa/DSA-58001/blob/main/Activity%231.ipynb\" target=\"_parent\"><img src=\"https://colab.research.google.com/assets/colab-badge.svg\" alt=\"Open In Colab\"/></a>"
      ]
    },
    {
      "cell_type": "markdown",
      "source": [
        "1. Write a Python program to create an array of 10 integers and display the array items. Access individual elements through indexes and compute for the sum.\n",
        "2. Write a Python program to append a new item to the end of the array. Original array: numbers = [1, 2, 3, 4, 5, 6, 7, 8, 9, 10]\n",
        "3. Write a Python program to insert a new item before the second element in an existing array. Original array: numbers = [1, 2, 3, 4, 5, 6, 7, 8, 9, 10]\n",
        "4. Write a Python program to reverse the order of the items in the array.Original array: numbers = [5, 4, 3, 2, 1]\n",
        "5. Write a Python program to get the length of the array. Original array: numbers = [5, 4, 3, 2, 1]"
      ],
      "metadata": {
        "id": "K13xT3GjRt25"
      }
    },
    {
      "cell_type": "code",
      "execution_count": 8,
      "metadata": {
        "colab": {
          "base_uri": "https://localhost:8080/"
        },
        "id": "PVxfMlyERq3l",
        "outputId": "53b85516-f29e-4097-de77-5f8f82705a9b"
      },
      "outputs": [
        {
          "output_type": "stream",
          "name": "stdout",
          "text": [
            "[1, 2, 3, 4, 5, 6, 7, 8, 9, 10]\n",
            "[1, 11, 2, 3, 4, 5, 6, 7, 8, 9, 10]\n",
            "[10, 9, 8, 7, 6, 5, 4, 3, 2, 11, 1]\n",
            "11\n"
          ]
        }
      ],
      "source": [
        "numbers = [1, 2, 3, 4, 5, 6, 7, 8, 9, 10]\n",
        "x = numbers\n",
        "print(x)\n",
        "\n",
        "numbers.insert(1, 11)\n",
        "print(x)\n",
        "\n",
        "numbers.reverse()\n",
        "print(x)\n",
        "\n",
        "y = len(numbers)\n",
        "print(y)"
      ]
    }
  ]
}