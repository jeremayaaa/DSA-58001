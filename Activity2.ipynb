{
  "nbformat": 4,
  "nbformat_minor": 0,
  "metadata": {
    "colab": {
      "provenance": [],
      "authorship_tag": "ABX9TyMPUD56oFafJFbsZm1Yxc+I",
      "include_colab_link": true
    },
    "kernelspec": {
      "name": "python3",
      "display_name": "Python 3"
    },
    "language_info": {
      "name": "python"
    }
  },
  "cells": [
    {
      "cell_type": "markdown",
      "metadata": {
        "id": "view-in-github",
        "colab_type": "text"
      },
      "source": [
        "<a href=\"https://colab.research.google.com/github/jeremayaaa/DSA-58001/blob/main/Activity2.ipynb\" target=\"_parent\"><img src=\"https://colab.research.google.com/assets/colab-badge.svg\" alt=\"Open In Colab\"/></a>"
      ]
    },
    {
      "cell_type": "markdown",
      "source": [
        "1. Write a Python program to create a singly linked list of vowel in English alphabet. By iterating through the list, display all the vowels, the head, and the tail of the list. (using Google Colab)\n",
        "2. Save your source codes to GitHub\n",
        "3. Name it as Activity 2 and copy the link of your GitHub repository DSA 58011 here"
      ],
      "metadata": {
        "id": "lK0txSYdzg1-"
      }
    },
    {
      "cell_type": "code",
      "execution_count": 1,
      "metadata": {
        "colab": {
          "base_uri": "https://localhost:8080/"
        },
        "id": "hf-a46m1y7sv",
        "outputId": "98553af9-ff47-4d16-d42c-85d168e6e75e"
      },
      "outputs": [
        {
          "output_type": "stream",
          "name": "stdout",
          "text": [
            "A\n",
            "E\n",
            "I\n",
            "O\n",
            "U\n"
          ]
        }
      ],
      "source": [
        "class Node:\n",
        "  def __init__(self,data): \n",
        "    self.data = data   \n",
        "    self.next = None\n",
        "\n",
        "class LinkedList:\n",
        "  def __init__(self):\n",
        "    self.head = None  \n",
        "  def printList(self):\n",
        "    temp = self.head\n",
        "    while(temp):\n",
        "      print(temp.data)\n",
        "      temp = temp.next\n",
        " \n",
        "\n",
        "\n",
        "llist = LinkedList()\n",
        "llist.head = Node(\"A\")\n",
        "second = Node(\"E\")\n",
        "third = Node(\"I\")\n",
        "fourth = Node(\"O\")\n",
        "fifth = Node(\"U\")\n",
        "  \n",
        "llist.head.next = second\n",
        "second.next = third\n",
        "third.next = fourth\n",
        "fourth.next = fifth\n",
        "\n",
        "llist.printList()"
      ]
    }
  ]
}