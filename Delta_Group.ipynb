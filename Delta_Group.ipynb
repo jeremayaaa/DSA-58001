{
  "nbformat": 4,
  "nbformat_minor": 0,
  "metadata": {
    "colab": {
      "provenance": [],
      "authorship_tag": "ABX9TyMlL+fStuQwvWDPwMlBxJlv",
      "include_colab_link": true
    },
    "kernelspec": {
      "name": "python3",
      "display_name": "Python 3"
    },
    "language_info": {
      "name": "python"
    }
  },
  "cells": [
    {
      "cell_type": "markdown",
      "metadata": {
        "id": "view-in-github",
        "colab_type": "text"
      },
      "source": [
        "<a href=\"https://colab.research.google.com/github/jeremayaaa/DSA-58001/blob/main/Delta_Group.ipynb\" target=\"_parent\"><img src=\"https://colab.research.google.com/assets/colab-badge.svg\" alt=\"Open In Colab\"/></a>"
      ]
    },
    {
      "cell_type": "markdown",
      "source": [
        "Write a Recursive Python function for Minimum"
      ],
      "metadata": {
        "id": "lqG5A09rzE1n"
      }
    },
    {
      "cell_type": "code",
      "execution_count": 1,
      "metadata": {
        "colab": {
          "base_uri": "https://localhost:8080/"
        },
        "id": "cPGW-sd0y5WR",
        "outputId": "3f0689d0-362d-4caf-da5f-bd54a394e8e9"
      },
      "outputs": [
        {
          "output_type": "stream",
          "name": "stdout",
          "text": [
            "Minimum 1\n"
          ]
        }
      ],
      "source": [
        "def findMinimum (A, n):\n",
        "  if (n == 1):\n",
        "    return A[0]\n",
        "  return min(A[n-1], findMinimum(A, n-1))\n",
        "\n",
        "if __name__ == '__main__':\n",
        "  A = [1, 3, 5, 9, 11, 7, 2]\n",
        "  n = len(A)\n",
        "  min =(findMinimum(A, n))\n",
        "  print(\"Minimum\", min)"
      ]
    },
    {
      "cell_type": "markdown",
      "source": [
        "Write a Recursive Python function for Maximum"
      ],
      "metadata": {
        "id": "XjbzEIAtzKCX"
      }
    },
    {
      "cell_type": "code",
      "source": [
        "def findMaximum (A, n):\n",
        "  if (n == 1):\n",
        "    return A[0]\n",
        "  return max(A[n-1], findMaximum(A, n-1))\n",
        "\n",
        "if __name__ == '__main__':\n",
        "  A = [1, 3, 5, 9, 11, 7, 2]\n",
        "  n = len(A)\n",
        "  max =(findMaximum(A, n))\n",
        "  print(\"Maximum\", max)"
      ],
      "metadata": {
        "colab": {
          "base_uri": "https://localhost:8080/"
        },
        "id": "c_lTzDyiy7iq",
        "outputId": "a8db5b79-0df5-48af-830b-1ca41e2a5e04"
      },
      "execution_count": 2,
      "outputs": [
        {
          "output_type": "stream",
          "name": "stdout",
          "text": [
            "Maximum 11\n"
          ]
        }
      ]
    }
  ]
}