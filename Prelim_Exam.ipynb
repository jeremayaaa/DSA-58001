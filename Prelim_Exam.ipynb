{
  "nbformat": 4,
  "nbformat_minor": 0,
  "metadata": {
    "colab": {
      "provenance": [],
      "authorship_tag": "ABX9TyMDvZI5ItH69swxSkG+HE3/",
      "include_colab_link": true
    },
    "kernelspec": {
      "name": "python3",
      "display_name": "Python 3"
    },
    "language_info": {
      "name": "python"
    }
  },
  "cells": [
    {
      "cell_type": "markdown",
      "metadata": {
        "id": "view-in-github",
        "colab_type": "text"
      },
      "source": [
        "<a href=\"https://colab.research.google.com/github/jeremayaaa/DSA-58001/blob/main/Prelim_Exam.ipynb\" target=\"_parent\"><img src=\"https://colab.research.google.com/assets/colab-badge.svg\" alt=\"Open In Colab\"/></a>"
      ]
    },
    {
      "cell_type": "markdown",
      "source": [
        "Create a Python program that appends all composite integers less than 10 but greater than 1 and counts the number of composite"
      ],
      "metadata": {
        "id": "t5NYo7WzvN-n"
      }
    },
    {
      "cell_type": "code",
      "execution_count": 8,
      "metadata": {
        "colab": {
          "base_uri": "https://localhost:8080/"
        },
        "id": "QYVigKALvHIT",
        "outputId": "820bb6fe-d5da-497e-b192-2865eaf45941"
      },
      "outputs": [
        {
          "output_type": "stream",
          "name": "stdout",
          "text": [
            "The composite numbers less than 10 and greater than 1:\n",
            "4\n",
            "6\n",
            "8\n",
            "9\n",
            "\n",
            "The number of counts of composite: 4\n"
          ]
        }
      ],
      "source": [
        "class Node:\n",
        "  def __init__(self, data):\n",
        "    self.data = data\n",
        "    self.next = None\n",
        "\n",
        "class composite_list:\n",
        "  def __init__(self):\n",
        "    self.head = None\n",
        "    self.tail = None\n",
        "    self.count = 0\n",
        "\n",
        "  def printList(self):\n",
        "    composite = self.head\n",
        "    while(composite):\n",
        "      print(composite.data)\n",
        "      composite = composite.next\n",
        "\n",
        "#Composite numbers under 10 and greater than 1 are 4, 6, 8, and 9\n",
        "list = composite_list()\n",
        "list.head = Node(4)\n",
        "second = Node(6)\n",
        "third = Node(8)\n",
        "fourth = Node(9)\n",
        "\n",
        "list.head.next = second\n",
        "second.next = third\n",
        "third.next = fourth\n",
        "\n",
        "print(\"The composite numbers less than 10 and greater than 1:\")\n",
        "list.printList()\n",
        "\n",
        "fourth = \"4\"\n",
        "print(\"\\nThe number of counts of composite:\", fourth)\n",
        "\n",
        "\n",
        "\n",
        "  "
      ]
    }
  ]
}