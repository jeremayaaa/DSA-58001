{
  "nbformat": 4,
  "nbformat_minor": 0,
  "metadata": {
    "colab": {
      "name": "Practical Lab Exam.ipynb",
      "provenance": [],
      "authorship_tag": "ABX9TyMe6PTaY4kV5uNaKx6GCyhv",
      "include_colab_link": true
    },
    "kernelspec": {
      "name": "python3",
      "display_name": "Python 3"
    },
    "language_info": {
      "name": "python"
    }
  },
  "cells": [
    {
      "cell_type": "markdown",
      "metadata": {
        "id": "view-in-github",
        "colab_type": "text"
      },
      "source": [
        "<a href=\"https://colab.research.google.com/github/jeremayaaa/DSA-58001/blob/main/Practical_Lab_Exam.ipynb\" target=\"_parent\"><img src=\"https://colab.research.google.com/assets/colab-badge.svg\" alt=\"Open In Colab\"/></a>"
      ]
    },
    {
      "cell_type": "code",
      "execution_count": 14,
      "metadata": {
        "colab": {
          "base_uri": "https://localhost:8080/"
        },
        "id": "QVhtYLHKT3db",
        "outputId": "cbfa7fc3-d648-485f-fb53-24e5f1647444"
      },
      "outputs": [
        {
          "output_type": "stream",
          "name": "stdout",
          "text": [
            "The odd numbers are:  [49, 87, 75]\n",
            "The sum of odd numbers are:  211\n"
          ]
        }
      ],
      "source": [
        "list1 = [26,49,98,87,62,75]\n",
        "\n",
        "odd_num = [num for num in list1 if num % 2 == 1]\n",
        "sum = sum(odd_num)\n",
        "\n",
        "print(\"The odd numbers are: \", odd_num)\n",
        "print(\"The sum of odd numbers are: \", sum)"
      ]
    }
  ]
}