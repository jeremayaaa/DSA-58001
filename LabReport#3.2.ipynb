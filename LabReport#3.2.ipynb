{
  "nbformat": 4,
  "nbformat_minor": 0,
  "metadata": {
    "colab": {
      "provenance": [],
      "authorship_tag": "ABX9TyOf49Mh0vlKa6/h1D45qcZW",
      "include_colab_link": true
    },
    "kernelspec": {
      "name": "python3",
      "display_name": "Python 3"
    },
    "language_info": {
      "name": "python"
    }
  },
  "cells": [
    {
      "cell_type": "markdown",
      "metadata": {
        "id": "view-in-github",
        "colab_type": "text"
      },
      "source": [
        "<a href=\"https://colab.research.google.com/github/jeremayaaa/DSA-58001/blob/main/LabReport%233.2.ipynb\" target=\"_parent\"><img src=\"https://colab.research.google.com/assets/colab-badge.svg\" alt=\"Open In Colab\"/></a>"
      ]
    },
    {
      "cell_type": "code",
      "execution_count": 27,
      "metadata": {
        "colab": {
          "base_uri": "https://localhost:8080/"
        },
        "id": "bbUZBn2aR9_A",
        "outputId": "0c560485-04a3-43ac-eabd-94e7f3bf0f83"
      },
      "outputs": [
        {
          "output_type": "stream",
          "name": "stdout",
          "text": [
            "Enter a word :Khoor Pddp Vdbr\n",
            "\n",
            "Encrypted text:  Khoor Pddp Vdbr\n",
            "Decypted text:   Hello Maam Sayo\n"
          ]
        }
      ],
      "source": [
        "shift = 3\n",
        "word = input(\"Enter a word :\")\n",
        "encrypted_text = word\n",
        "\n",
        "plain_text = \"\"\n",
        "\n",
        "for c in encrypted_text: \n",
        "  if c.isupper():\n",
        "    c_unicode = ord(c)                      #find the position in 0 to 25\n",
        "    c_index = ord(c) - ord(\"A\")\n",
        "    new_index = (c_index - shift) % 26      #perform the negative shift\n",
        "    new_unicode = new_index + ord(\"A\")      #convert to new character\n",
        "    new_character = chr(new_unicode)\n",
        "    plain_text = plain_text + new_character #append to plain string\n",
        "  \n",
        "  elif c.islower():\n",
        "    c_unicode = ord(c)                      #find the position in 0 to 25\n",
        "    c_index = ord(c) - ord(\"a\")\n",
        "    new_index = (c_index - shift) % 26      #perform the negative shift\n",
        "    new_unicode = new_index + ord(\"a\")      #convert to new character\n",
        "    new_character = chr(new_unicode)\n",
        "    plain_text = plain_text + new_character #append to plain string\n",
        "\n",
        "  else:\n",
        "    plain_text += c\n",
        "    \n",
        "    \n",
        "\n",
        "print(\"\\nEncrypted text: \", encrypted_text)\n",
        "print(\"Decypted text:  \", plain_text)\n",
        "\n"
      ]
    }
  ]
}